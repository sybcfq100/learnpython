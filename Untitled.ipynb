{
 "cells": [
  {
   "cell_type": "code",
   "execution_count": 1,
   "id": "5cc494e2",
   "metadata": {},
   "outputs": [],
   "source": [
    "shakes = open('shakespeare.txt')\n",
    "text = shakes.read().split()"
   ]
  },
  {
   "cell_type": "code",
   "execution_count": 2,
   "id": "71dc4c99",
   "metadata": {},
   "outputs": [
    {
     "data": {
      "text/plain": [
       "['A',\n",
       " \"MIDSUMMER-NIGHT'S\",\n",
       " 'DREAM',\n",
       " 'Now',\n",
       " ',',\n",
       " 'fair',\n",
       " 'Hippolyta',\n",
       " ',',\n",
       " 'our',\n",
       " 'nuptial',\n",
       " 'hour',\n",
       " 'Draws',\n",
       " 'on',\n",
       " 'apace',\n",
       " ':',\n",
       " 'four',\n",
       " 'happy',\n",
       " 'days',\n",
       " 'bring',\n",
       " 'in',\n",
       " 'Another',\n",
       " 'moon',\n",
       " ';',\n",
       " 'but',\n",
       " 'O']"
      ]
     },
     "execution_count": 2,
     "metadata": {},
     "output_type": "execute_result"
    }
   ],
   "source": [
    "text[:25]"
   ]
  },
  {
   "cell_type": "code",
   "execution_count": 3,
   "id": "a7314367",
   "metadata": {},
   "outputs": [
    {
     "data": {
      "text/plain": [
       "23272"
      ]
     },
     "execution_count": 3,
     "metadata": {},
     "output_type": "execute_result"
    }
   ],
   "source": [
    "text.count('the')"
   ]
  },
  {
   "cell_type": "code",
   "execution_count": 4,
   "id": "f5c5a1ca",
   "metadata": {},
   "outputs": [
    {
     "data": {
      "text/plain": [
       "40"
      ]
     },
     "execution_count": 4,
     "metadata": {},
     "output_type": "execute_result"
    }
   ],
   "source": [
    "text.count('forsooth')"
   ]
  },
  {
   "cell_type": "code",
   "execution_count": 5,
   "id": "c51cda14",
   "metadata": {},
   "outputs": [
    {
     "data": {
      "text/plain": [
       "33505"
      ]
     },
     "execution_count": 5,
     "metadata": {},
     "output_type": "execute_result"
    }
   ],
   "source": [
    "words = set(text)\n",
    "len(words)"
   ]
  },
  {
   "cell_type": "code",
   "execution_count": 6,
   "id": "46b225f7",
   "metadata": {},
   "outputs": [
    {
     "data": {
      "text/plain": [
       "'darw'"
      ]
     },
     "execution_count": 6,
     "metadata": {},
     "output_type": "execute_result"
    }
   ],
   "source": [
    "'darw'"
   ]
  },
  {
   "cell_type": "code",
   "execution_count": 7,
   "id": "a145d8a8",
   "metadata": {},
   "outputs": [
    {
     "data": {
      "text/plain": [
       "'d'"
      ]
     },
     "execution_count": 7,
     "metadata": {},
     "output_type": "execute_result"
    }
   ],
   "source": [
    "'darw'[0]"
   ]
  },
  {
   "cell_type": "code",
   "execution_count": 8,
   "id": "39b333f7",
   "metadata": {
    "scrolled": true
   },
   "outputs": [
    {
     "data": {
      "text/plain": [
       "{'!',\n",
       " '\"',\n",
       " '&',\n",
       " \"'\",\n",
       " ',',\n",
       " '.',\n",
       " '1',\n",
       " '2',\n",
       " '3',\n",
       " '4',\n",
       " '5',\n",
       " '6',\n",
       " '7',\n",
       " '8',\n",
       " '9',\n",
       " ':',\n",
       " ';',\n",
       " '?',\n",
       " 'A',\n",
       " 'B',\n",
       " 'C',\n",
       " 'D',\n",
       " 'E',\n",
       " 'F',\n",
       " 'G',\n",
       " 'H',\n",
       " 'I',\n",
       " 'J',\n",
       " 'K',\n",
       " 'L',\n",
       " 'M',\n",
       " 'N',\n",
       " 'O',\n",
       " 'P',\n",
       " 'Q',\n",
       " 'R',\n",
       " 'S',\n",
       " 'T',\n",
       " 'U',\n",
       " 'V',\n",
       " 'W',\n",
       " 'X',\n",
       " 'Y',\n",
       " 'Z',\n",
       " '[',\n",
       " ']',\n",
       " 'a',\n",
       " 'b',\n",
       " 'c',\n",
       " 'd',\n",
       " 'e',\n",
       " 'f',\n",
       " 'g',\n",
       " 'h',\n",
       " 'i',\n",
       " 'j',\n",
       " 'k',\n",
       " 'l',\n",
       " 'm',\n",
       " 'n',\n",
       " 'o',\n",
       " 'p',\n",
       " 'q',\n",
       " 'r',\n",
       " 's',\n",
       " 't',\n",
       " 'u',\n",
       " 'v',\n",
       " 'w',\n",
       " 'y',\n",
       " 'z'}"
      ]
     },
     "execution_count": 8,
     "metadata": {},
     "output_type": "execute_result"
    }
   ],
   "source": [
    "{w[0] for w in words}"
   ]
  },
  {
   "cell_type": "code",
   "execution_count": 9,
   "id": "90a5c896",
   "metadata": {},
   "outputs": [
    {
     "data": {
      "text/plain": [
       "71"
      ]
     },
     "execution_count": 9,
     "metadata": {},
     "output_type": "execute_result"
    }
   ],
   "source": [
    "len({w[0] for w in words})"
   ]
  },
  {
   "cell_type": "code",
   "execution_count": 10,
   "id": "898da92d",
   "metadata": {},
   "outputs": [
    {
     "data": {
      "text/plain": [
       "'ward'"
      ]
     },
     "execution_count": 10,
     "metadata": {},
     "output_type": "execute_result"
    }
   ],
   "source": [
    "'draw'[::-1]"
   ]
  },
  {
   "cell_type": "code",
   "execution_count": 11,
   "id": "84e351ff",
   "metadata": {},
   "outputs": [
    {
     "data": {
      "text/plain": [
       "{'level', 'madam', 'minim', 'redder', 'refer', 'rever'}"
      ]
     },
     "execution_count": 11,
     "metadata": {},
     "output_type": "execute_result"
    }
   ],
   "source": [
    "{w for w in words if w==w[::-1] and len(w)>4}"
   ]
  },
  {
   "cell_type": "code",
   "execution_count": 12,
   "id": "9c2dee0f",
   "metadata": {},
   "outputs": [
    {
     "data": {
      "text/plain": [
       "{'asses',\n",
       " 'deeps',\n",
       " 'devil',\n",
       " 'keels',\n",
       " 'knits',\n",
       " 'leets',\n",
       " 'leper',\n",
       " 'level',\n",
       " 'lived',\n",
       " 'madam',\n",
       " 'minim',\n",
       " 'refer',\n",
       " 'repel',\n",
       " 'rever',\n",
       " 'sessa',\n",
       " 'sleek',\n",
       " 'speed',\n",
       " 'spots',\n",
       " 'steel',\n",
       " 'stink',\n",
       " 'stops'}"
      ]
     },
     "execution_count": 12,
     "metadata": {},
     "output_type": "execute_result"
    }
   ],
   "source": [
    "{w for w in words if w[::-1] in words and len(w)==5}"
   ]
  },
  {
   "cell_type": "code",
   "execution_count": 13,
   "id": "5acd244c",
   "metadata": {},
   "outputs": [
    {
     "data": {
      "text/plain": [
       "set()"
      ]
     },
     "execution_count": 13,
     "metadata": {},
     "output_type": "execute_result"
    }
   ],
   "source": [
    "{w for w in words if w[::-1] in words and len(w)>6}"
   ]
  },
  {
   "cell_type": "code",
   "execution_count": 14,
   "id": "cdc2c010",
   "metadata": {},
   "outputs": [
    {
     "data": {
      "text/plain": [
       "{'diaper', 'drawer', 'redder', 'repaid', 'reward'}"
      ]
     },
     "execution_count": 14,
     "metadata": {},
     "output_type": "execute_result"
    }
   ],
   "source": [
    "{w for w in words if w[::-1] in words and len(w)==6}"
   ]
  },
  {
   "cell_type": "code",
   "execution_count": null,
   "id": "19a8cfed",
   "metadata": {},
   "outputs": [],
   "source": []
  }
 ],
 "metadata": {
  "kernelspec": {
   "display_name": "Python 3",
   "language": "python",
   "name": "python3"
  },
  "language_info": {
   "codemirror_mode": {
    "name": "ipython",
    "version": 3
   },
   "file_extension": ".py",
   "mimetype": "text/x-python",
   "name": "python",
   "nbconvert_exporter": "python",
   "pygments_lexer": "ipython3",
   "version": "3.11.1 (tags/v3.11.1:a7a450f, Dec  6 2022, 19:43:28) [MSC v.1934 32 bit (Intel)]"
  },
  "vscode": {
   "interpreter": {
    "hash": "b1d3b0ae51320e691eea15b0cdcafb92efd7f7e7ac2f1dc96547ea3840c6edb9"
   }
  }
 },
 "nbformat": 4,
 "nbformat_minor": 5
}
