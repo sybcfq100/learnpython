{
 "cells": [
  {
   "cell_type": "code",
   "execution_count": null,
   "id": "5cc494e2",
   "metadata": {},
   "outputs": [],
   "source": [
    "shakes = open('shakespeare.txt')\n",
    "text = shakes.read().split()"
   ]
  },
  {
   "cell_type": "code",
   "execution_count": null,
   "id": "71dc4c99",
   "metadata": {},
   "outputs": [],
   "source": [
    "text[:25]"
   ]
  },
  {
   "cell_type": "code",
   "execution_count": null,
   "id": "a7314367",
   "metadata": {},
   "outputs": [],
   "source": [
    "text.count('the')"
   ]
  },
  {
   "cell_type": "code",
   "execution_count": null,
   "id": "f5c5a1ca",
   "metadata": {},
   "outputs": [],
   "source": [
    "text.count('forsooth')"
   ]
  },
  {
   "cell_type": "code",
   "execution_count": null,
   "id": "c51cda14",
   "metadata": {},
   "outputs": [],
   "source": [
    "words = set(text)\n",
    "len(words)"
   ]
  },
  {
   "cell_type": "code",
   "execution_count": null,
   "id": "46b225f7",
   "metadata": {},
   "outputs": [],
   "source": [
    "'darw'"
   ]
  },
  {
   "cell_type": "code",
   "execution_count": null,
   "id": "a145d8a8",
   "metadata": {},
   "outputs": [],
   "source": [
    "'darw'[0]"
   ]
  },
  {
   "cell_type": "code",
   "execution_count": null,
   "id": "39b333f7",
   "metadata": {
    "scrolled": true
   },
   "outputs": [],
   "source": [
    "{w[0] for w in words}"
   ]
  },
  {
   "cell_type": "code",
   "execution_count": null,
   "id": "90a5c896",
   "metadata": {},
   "outputs": [],
   "source": [
    "len({w[0] for w in words})"
   ]
  },
  {
   "cell_type": "code",
   "execution_count": null,
   "id": "898da92d",
   "metadata": {},
   "outputs": [],
   "source": [
    "'draw'[::-1]"
   ]
  },
  {
   "cell_type": "code",
   "execution_count": null,
   "id": "84e351ff",
   "metadata": {},
   "outputs": [],
   "source": [
    "{w for w in words if w==w[::-1] and len(w)>4}"
   ]
  },
  {
   "cell_type": "code",
   "execution_count": null,
   "id": "9c2dee0f",
   "metadata": {},
   "outputs": [],
   "source": [
    "{w for w in words if w[::-1] in words and len(w)==5}"
   ]
  },
  {
   "cell_type": "code",
   "execution_count": null,
   "id": "5acd244c",
   "metadata": {},
   "outputs": [],
   "source": [
    "{w for w in words if w[::-1] in words and len(w)>6}"
   ]
  },
  {
   "cell_type": "code",
   "execution_count": null,
   "id": "cdc2c010",
   "metadata": {},
   "outputs": [],
   "source": [
    "{w for w in words if w[::-1] in words and len(w)==6}"
   ]
  },
  {
   "cell_type": "code",
   "execution_count": null,
   "id": "19a8cfed",
   "metadata": {},
   "outputs": [],
   "source": []
  }
 ],
 "metadata": {
  "kernelspec": {
   "display_name": "Python 3",
   "language": "python",
   "name": "python3"
  },
  "language_info": {
   "codemirror_mode": {
    "name": "ipython",
    "version": 3
   },
   "file_extension": ".py",
   "mimetype": "text/x-python",
   "name": "python",
   "nbconvert_exporter": "python",
   "pygments_lexer": "ipython3",
   "version": "3.10.9"
  },
  "vscode": {
   "interpreter": {
    "hash": "b1d3b0ae51320e691eea15b0cdcafb92efd7f7e7ac2f1dc96547ea3840c6edb9"
   }
  }
 },
 "nbformat": 4,
 "nbformat_minor": 5
}
